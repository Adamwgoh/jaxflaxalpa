{
 "cells": [
  {
   "cell_type": "markdown",
   "id": "9018347b-6f9e-4c07-b5a7-96a0907f8dbf",
   "metadata": {},
   "source": [
    "# Flax\n",
    "\n",
    "Flax is a neural network library made with Jax with high speed computation in mind. This notebook explores some of the examples from flax as well as \n",
    "transformer implementations, specifiically in the field of NLP and Computer Vision"
   ]
  },
  {
   "cell_type": "markdown",
   "id": "867706de-6e0d-44ce-be8c-a33b53f88e67",
   "metadata": {},
   "source": [
    "## Installationpip install --upgrade pip # To support manylinux2010 wheels.\n",
    "pip install --upgrade jax jaxlib # CPU-only"
   ]
  },
  {
   "cell_type": "code",
   "execution_count": 2,
   "id": "a3776939-6f85-4a59-abe0-daf7adfddf6e",
   "metadata": {
    "tags": []
   },
   "outputs": [
    {
     "name": "stdout",
     "output_type": "stream",
     "text": [
      "Requirement already satisfied: pip in /home/arielg/anaconda3/envs/aistack/lib/python3.11/site-packages (23.0.1)\n",
      "Collecting pip\n",
      "  Using cached pip-23.1.2-py3-none-any.whl (2.1 MB)\n",
      "Installing collected packages: pip\n",
      "  Attempting uninstall: pip\n",
      "    Found existing installation: pip 23.0.1\n",
      "    Uninstalling pip-23.0.1:\n",
      "      Successfully uninstalled pip-23.0.1\n",
      "Successfully installed pip-23.1.2\n",
      "Collecting jax\n",
      "  Using cached jax-0.4.10-py3-none-any.whl\n",
      "Requirement already satisfied: jaxlib in /home/arielg/anaconda3/envs/aistack/lib/python3.11/site-packages (0.3.25)\n",
      "Collecting jaxlib\n",
      "  Using cached jaxlib-0.4.10-cp311-cp311-manylinux2014_x86_64.whl (69.9 MB)\n",
      "Requirement already satisfied: ml-dtypes>=0.1.0 in /home/arielg/anaconda3/envs/aistack/lib/python3.11/site-packages (from jax) (0.1.0)\n",
      "Requirement already satisfied: numpy>=1.21 in /home/arielg/anaconda3/envs/aistack/lib/python3.11/site-packages (from jax) (1.23.5)\n",
      "Requirement already satisfied: opt-einsum in /home/arielg/anaconda3/envs/aistack/lib/python3.11/site-packages (from jax) (3.3.0)\n",
      "Requirement already satisfied: scipy>=1.7 in /home/arielg/anaconda3/envs/aistack/lib/python3.11/site-packages (from jax) (1.10.1)\n",
      "Installing collected packages: jaxlib, jax\n",
      "  Attempting uninstall: jaxlib\n",
      "    Found existing installation: jaxlib 0.3.25\n",
      "    Uninstalling jaxlib-0.3.25:\n",
      "      Successfully uninstalled jaxlib-0.3.25\n",
      "Successfully installed jax-0.4.10 jaxlib-0.4.10\n",
      "Requirement already satisfied: flax[all] in /home/arielg/anaconda3/envs/aistack/lib/python3.11/site-packages (0.6.2)\n"
     ]
    },
    {
     "name": "stderr",
     "output_type": "stream",
     "text": [
      "WARNING: flax 0.6.2 does not provide the extra 'all'\n"
     ]
    },
    {
     "name": "stdout",
     "output_type": "stream",
     "text": [
      "Requirement already satisfied: numpy>=1.12 in /home/arielg/anaconda3/envs/aistack/lib/python3.11/site-packages (from flax[all]) (1.23.5)\n",
      "Requirement already satisfied: jax>=0.3.16 in /home/arielg/anaconda3/envs/aistack/lib/python3.11/site-packages (from flax[all]) (0.4.10)\n",
      "Requirement already satisfied: matplotlib in /home/arielg/anaconda3/envs/aistack/lib/python3.11/site-packages (from flax[all]) (3.7.1)\n",
      "Requirement already satisfied: msgpack in /home/arielg/anaconda3/envs/aistack/lib/python3.11/site-packages (from flax[all]) (1.0.5)\n",
      "Requirement already satisfied: optax in /home/arielg/anaconda3/envs/aistack/lib/python3.11/site-packages (from flax[all]) (0.1.3)\n",
      "Requirement already satisfied: tensorstore in /home/arielg/anaconda3/envs/aistack/lib/python3.11/site-packages (from flax[all]) (0.1.36)\n",
      "Requirement already satisfied: rich>=11.1 in /home/arielg/anaconda3/envs/aistack/lib/python3.11/site-packages (from flax[all]) (11.2.0)\n",
      "Requirement already satisfied: typing-extensions>=4.1.1 in /home/arielg/anaconda3/envs/aistack/lib/python3.11/site-packages (from flax[all]) (4.5.0)\n",
      "Requirement already satisfied: PyYAML>=5.4.1 in /home/arielg/anaconda3/envs/aistack/lib/python3.11/site-packages (from flax[all]) (6.0)\n",
      "Requirement already satisfied: ml-dtypes>=0.1.0 in /home/arielg/anaconda3/envs/aistack/lib/python3.11/site-packages (from jax>=0.3.16->flax[all]) (0.1.0)\n",
      "Requirement already satisfied: opt-einsum in /home/arielg/anaconda3/envs/aistack/lib/python3.11/site-packages (from jax>=0.3.16->flax[all]) (3.3.0)\n",
      "Requirement already satisfied: scipy>=1.7 in /home/arielg/anaconda3/envs/aistack/lib/python3.11/site-packages (from jax>=0.3.16->flax[all]) (1.10.1)\n",
      "Requirement already satisfied: colorama<0.5.0,>=0.4.0 in /home/arielg/anaconda3/envs/aistack/lib/python3.11/site-packages (from rich>=11.1->flax[all]) (0.4.6)\n",
      "Requirement already satisfied: commonmark<0.10.0,>=0.9.0 in /home/arielg/anaconda3/envs/aistack/lib/python3.11/site-packages (from rich>=11.1->flax[all]) (0.9.1)\n",
      "Requirement already satisfied: pygments<3.0.0,>=2.6.0 in /home/arielg/anaconda3/envs/aistack/lib/python3.11/site-packages (from rich>=11.1->flax[all]) (2.15.1)\n",
      "Requirement already satisfied: contourpy>=1.0.1 in /home/arielg/anaconda3/envs/aistack/lib/python3.11/site-packages (from matplotlib->flax[all]) (1.0.7)\n",
      "Requirement already satisfied: cycler>=0.10 in /home/arielg/anaconda3/envs/aistack/lib/python3.11/site-packages (from matplotlib->flax[all]) (0.11.0)\n",
      "Requirement already satisfied: fonttools>=4.22.0 in /home/arielg/anaconda3/envs/aistack/lib/python3.11/site-packages (from matplotlib->flax[all]) (4.39.4)\n",
      "Requirement already satisfied: kiwisolver>=1.0.1 in /home/arielg/anaconda3/envs/aistack/lib/python3.11/site-packages (from matplotlib->flax[all]) (1.4.4)\n",
      "Requirement already satisfied: packaging>=20.0 in /home/arielg/anaconda3/envs/aistack/lib/python3.11/site-packages (from matplotlib->flax[all]) (23.1)\n",
      "Requirement already satisfied: pillow>=6.2.0 in /home/arielg/anaconda3/envs/aistack/lib/python3.11/site-packages (from matplotlib->flax[all]) (9.5.0)\n",
      "Requirement already satisfied: pyparsing>=2.3.1 in /home/arielg/anaconda3/envs/aistack/lib/python3.11/site-packages (from matplotlib->flax[all]) (3.0.9)\n",
      "Requirement already satisfied: python-dateutil>=2.7 in /home/arielg/anaconda3/envs/aistack/lib/python3.11/site-packages (from matplotlib->flax[all]) (2.8.2)\n",
      "Requirement already satisfied: absl-py>=0.7.1 in /home/arielg/anaconda3/envs/aistack/lib/python3.11/site-packages (from optax->flax[all]) (1.4.0)\n",
      "Requirement already satisfied: chex>=0.0.4 in /home/arielg/anaconda3/envs/aistack/lib/python3.11/site-packages (from optax->flax[all]) (0.1.5)\n",
      "Requirement already satisfied: jaxlib>=0.1.37 in /home/arielg/anaconda3/envs/aistack/lib/python3.11/site-packages (from optax->flax[all]) (0.4.10)\n",
      "Requirement already satisfied: dm-tree>=0.1.5 in /home/arielg/anaconda3/envs/aistack/lib/python3.11/site-packages (from chex>=0.0.4->optax->flax[all]) (0.1.8)\n",
      "Requirement already satisfied: toolz>=0.9.0 in /home/arielg/anaconda3/envs/aistack/lib/python3.11/site-packages (from chex>=0.0.4->optax->flax[all]) (0.12.0)\n",
      "Requirement already satisfied: six>=1.5 in /home/arielg/anaconda3/envs/aistack/lib/python3.11/site-packages (from python-dateutil>=2.7->matplotlib->flax[all]) (1.16.0)\n"
     ]
    }
   ],
   "source": [
    "%%bash\n",
    "pip install --upgrade pip # To support manylinux2010 wheels.\n",
    "pip install --upgrade jax jaxlib # CPU-only\n",
    "pip install flax[all]"
   ]
  },
  {
   "cell_type": "code",
   "execution_count": 5,
   "id": "b44a85e7-42f2-46d4-b2be-dfc7775868a7",
   "metadata": {
    "tags": []
   },
   "outputs": [
    {
     "data": {
      "text/plain": [
       "Array([[0.5158798 , 0.48319402, 0.5002328 , 0.51826   , 0.47074836,\n",
       "        0.53025323, 0.5709436 , 0.4605159 , 0.4656811 , 0.46918797,\n",
       "        0.5084141 , 0.5405306 ],\n",
       "       [0.5158798 , 0.48319402, 0.5002328 , 0.51826   , 0.47074836,\n",
       "        0.53025323, 0.5709436 , 0.4605159 , 0.4656811 , 0.46918797,\n",
       "        0.5084141 , 0.5405306 ],\n",
       "       [0.5158798 , 0.48319402, 0.5002328 , 0.51826   , 0.47074836,\n",
       "        0.53025323, 0.5709436 , 0.4605159 , 0.4656811 , 0.46918797,\n",
       "        0.5084141 , 0.5405306 ],\n",
       "       [0.5158798 , 0.48319402, 0.5002328 , 0.51826   , 0.47074836,\n",
       "        0.53025323, 0.5709436 , 0.4605159 , 0.4656811 , 0.46918797,\n",
       "        0.5084141 , 0.5405306 ],\n",
       "       [0.5158798 , 0.48319402, 0.5002328 , 0.51826   , 0.47074836,\n",
       "        0.53025323, 0.5709436 , 0.4605159 , 0.4656811 , 0.46918797,\n",
       "        0.5084141 , 0.5405306 ],\n",
       "       [0.5158798 , 0.48319402, 0.5002328 , 0.51826   , 0.47074836,\n",
       "        0.53025323, 0.5709436 , 0.4605159 , 0.4656811 , 0.46918797,\n",
       "        0.5084141 , 0.5405306 ],\n",
       "       [0.5158798 , 0.48319402, 0.5002328 , 0.51826   , 0.47074836,\n",
       "        0.53025323, 0.5709436 , 0.4605159 , 0.4656811 , 0.46918797,\n",
       "        0.5084141 , 0.5405306 ],\n",
       "       [0.5158798 , 0.48319402, 0.5002328 , 0.51826   , 0.47074836,\n",
       "        0.53025323, 0.5709436 , 0.4605159 , 0.4656811 , 0.46918797,\n",
       "        0.5084141 , 0.5405306 ],\n",
       "       [0.5158798 , 0.48319402, 0.5002328 , 0.51826   , 0.47074836,\n",
       "        0.53025323, 0.5709436 , 0.4605159 , 0.4656811 , 0.46918797,\n",
       "        0.5084141 , 0.5405306 ],\n",
       "       [0.5158798 , 0.48319402, 0.5002328 , 0.51826   , 0.47074836,\n",
       "        0.53025323, 0.5709436 , 0.4605159 , 0.4656811 , 0.46918797,\n",
       "        0.5084141 , 0.5405306 ],\n",
       "       [0.5158798 , 0.48319402, 0.5002328 , 0.51826   , 0.47074836,\n",
       "        0.53025323, 0.5709436 , 0.4605159 , 0.4656811 , 0.46918797,\n",
       "        0.5084141 , 0.5405306 ],\n",
       "       [0.5158798 , 0.48319402, 0.5002328 , 0.51826   , 0.47074836,\n",
       "        0.53025323, 0.5709436 , 0.4605159 , 0.4656811 , 0.46918797,\n",
       "        0.5084141 , 0.5405306 ],\n",
       "       [0.5158798 , 0.48319402, 0.5002328 , 0.51826   , 0.47074836,\n",
       "        0.53025323, 0.5709436 , 0.4605159 , 0.4656811 , 0.46918797,\n",
       "        0.5084141 , 0.5405306 ],\n",
       "       [0.5158798 , 0.48319402, 0.5002328 , 0.51826   , 0.47074836,\n",
       "        0.53025323, 0.5709436 , 0.4605159 , 0.4656811 , 0.46918797,\n",
       "        0.5084141 , 0.5405306 ],\n",
       "       [0.5158798 , 0.48319402, 0.5002328 , 0.51826   , 0.47074836,\n",
       "        0.53025323, 0.5709436 , 0.4605159 , 0.4656811 , 0.46918797,\n",
       "        0.5084141 , 0.5405306 ],\n",
       "       [0.5158798 , 0.48319402, 0.5002328 , 0.51826   , 0.47074836,\n",
       "        0.53025323, 0.5709436 , 0.4605159 , 0.4656811 , 0.46918797,\n",
       "        0.5084141 , 0.5405306 ]], dtype=float32)"
      ]
     },
     "execution_count": 5,
     "metadata": {},
     "output_type": "execute_result"
    }
   ],
   "source": [
    "## Sample MLP\n",
    "from typing import Sequence\n",
    "\n",
    "import numpy as np\n",
    "import jax\n",
    "import jax.numpy as jnp\n",
    "import flax.linen as nn\n",
    "\n",
    "class MLP(nn.Module):\n",
    "  features: Sequence[int]\n",
    "\n",
    "  @nn.compact\n",
    "  def __call__(self, x):\n",
    "    for feat in self.features[:-1]:\n",
    "      x = nn.relu(nn.Dense(feat)(x))\n",
    "    x = nn.Dense(self.features[-1])(x)\n",
    "    return x\n",
    "\n",
    "# model = MLP([12, 8, 4])\n",
    "# batch = jnp.ones((32, 10))\n",
    "# variables = model.init(jax.random.PRNGKey(0), batch)\n",
    "# output = model.apply(variables, batch)\n",
    "\n",
    "# Sample CNN\n",
    "class CNN(nn.Module):\n",
    "  @nn.compact\n",
    "  def __call__(self, x):\n",
    "    x = nn.Conv(features=32, kernel_size=(3, 3))(x)\n",
    "    x = nn.relu(x)\n",
    "    x = nn.avg_pool(x, window_shape=(2, 2), strides=(2, 2))\n",
    "    x = nn.Conv(features=64, kernel_size=(3, 3))(x)\n",
    "    x = nn.relu(x)\n",
    "    x = nn.avg_pool(x, window_shape=(2, 2), strides=(2, 2))\n",
    "    x = x.reshape((x.shape[0], -1))  # flatten\n",
    "    x = nn.Dense(features=256)(x)\n",
    "    x = nn.relu(x)\n",
    "    x = nn.Dense(features=10)(x)\n",
    "    x = nn.log_softmax(x)\n",
    "    return x\n",
    "\n",
    "# model = CNN()\n",
    "# batch = jnp.ones((32, 64, 64, 10))  # (N, H, W, C) format\n",
    "# variables = model.init(jax.random.PRNGKey(0), batch)\n",
    "# output = model.apply(variables, batch)\n",
    "\n",
    "\n",
    "# Sampel AutoEncoder\n",
    "class AutoEncoder(nn.Module):\n",
    "  encoder_widths: Sequence[int]\n",
    "  decoder_widths: Sequence[int]\n",
    "  input_shape: Sequence[int]\n",
    "\n",
    "  def setup(self):\n",
    "    input_dim = np.prod(self.input_shape)\n",
    "    self.encoder = MLP(self.encoder_widths)\n",
    "    self.decoder = MLP(self.decoder_widths + (input_dim,))\n",
    "\n",
    "  def __call__(self, x):\n",
    "    return self.decode(self.encode(x))\n",
    "\n",
    "  def encode(self, x):\n",
    "    assert x.shape[1:] == self.input_shape\n",
    "    return self.encoder(jnp.reshape(x, (x.shape[0], -1)))\n",
    "\n",
    "  def decode(self, z):\n",
    "    z = self.decoder(z)\n",
    "    x = nn.sigmoid(z)\n",
    "    x = jnp.reshape(x, (x.shape[0],) + self.input_shape)\n",
    "    return x\n",
    "\n",
    "model = AutoEncoder(encoder_widths=[20, 10, 5],\n",
    "                    decoder_widths=[5, 10, 20],\n",
    "                    input_shape=(12,))\n",
    "batch = jnp.ones((16, 12))\n",
    "variables = model.init(jax.random.PRNGKey(0), batch)\n",
    "encoded = model.apply(variables, batch, method=model.encode)\n",
    "decoded = model.apply(variables, encoded, method=model.decode)\n",
    "decoded"
   ]
  },
  {
   "cell_type": "code",
   "execution_count": null,
   "id": "e64b4887-a321-495a-912d-b6709f9cada4",
   "metadata": {},
   "outputs": [],
   "source": []
  }
 ],
 "metadata": {
  "kernelspec": {
   "display_name": "Python 3 (ipykernel)",
   "language": "python",
   "name": "python3"
  },
  "language_info": {
   "codemirror_mode": {
    "name": "ipython",
    "version": 3
   },
   "file_extension": ".py",
   "mimetype": "text/x-python",
   "name": "python",
   "nbconvert_exporter": "python",
   "pygments_lexer": "ipython3",
   "version": "3.11.3"
  }
 },
 "nbformat": 4,
 "nbformat_minor": 5
}
